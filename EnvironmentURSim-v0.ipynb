{
 "cells": [
  {
   "cell_type": "code",
   "execution_count": 5,
   "id": "8593ffd3",
   "metadata": {},
   "outputs": [
    {
     "name": "stdout",
     "output_type": "stream",
     "text": [
      "Requirement already satisfied: robo-gym in c:\\users\\marci\\appdata\\local\\programs\\python\\python311\\lib\\site-packages (1.0.0)\n",
      "Requirement already satisfied: gym in c:\\users\\marci\\appdata\\local\\programs\\python\\python311\\lib\\site-packages (from robo-gym) (0.26.2)\n",
      "Requirement already satisfied: robo-gym-server-modules in c:\\users\\marci\\appdata\\local\\programs\\python\\python311\\lib\\site-packages (from robo-gym) (0.2.7.9)\n",
      "Requirement already satisfied: numpy in c:\\users\\marci\\appdata\\local\\programs\\python\\python311\\lib\\site-packages (from robo-gym) (1.26.2)\n",
      "Requirement already satisfied: pyyaml in c:\\users\\marci\\appdata\\local\\programs\\python\\python311\\lib\\site-packages (from robo-gym) (6.0.1)\n",
      "Requirement already satisfied: cloudpickle>=1.2.0 in c:\\users\\marci\\appdata\\local\\programs\\python\\python311\\lib\\site-packages (from gym->robo-gym) (3.0.0)\n",
      "Requirement already satisfied: gym-notices>=0.0.4 in c:\\users\\marci\\appdata\\local\\programs\\python\\python311\\lib\\site-packages (from gym->robo-gym) (0.0.8)\n",
      "Requirement already satisfied: grpcio in c:\\users\\marci\\appdata\\local\\programs\\python\\python311\\lib\\site-packages (from robo-gym-server-modules->robo-gym) (1.59.3)\n",
      "Requirement already satisfied: protobuf in c:\\users\\marci\\appdata\\local\\programs\\python\\python311\\lib\\site-packages (from robo-gym-server-modules->robo-gym) (3.20.0)\n",
      "Requirement already satisfied: libtmux in c:\\users\\marci\\appdata\\local\\programs\\python\\python311\\lib\\site-packages (from robo-gym-server-modules->robo-gym) (0.25.0)\n",
      "Note: you may need to restart the kernel to use updated packages.\n"
     ]
    },
    {
     "name": "stderr",
     "output_type": "stream",
     "text": [
      "\n",
      "[notice] A new release of pip available: 22.3.1 -> 23.3.1\n",
      "[notice] To update, run: python.exe -m pip install --upgrade pip\n"
     ]
    },
    {
     "name": "stdout",
     "output_type": "stream",
     "text": [
      "Requirement already satisfied: protobuf==3.20.0 in c:\\users\\marci\\appdata\\local\\programs\\python\\python311\\lib\\site-packages (3.20.0)Note: you may need to restart the kernel to use updated packages.\n",
      "\n"
     ]
    },
    {
     "name": "stderr",
     "output_type": "stream",
     "text": [
      "\n",
      "[notice] A new release of pip available: 22.3.1 -> 23.3.1\n",
      "[notice] To update, run: python.exe -m pip install --upgrade pip\n"
     ]
    }
   ],
   "source": [
    "%pip install robo-gym\n",
    "%pip install protobuf==3.20.0"
   ]
  },
  {
   "cell_type": "code",
   "execution_count": 6,
   "id": "3e62858b",
   "metadata": {},
   "outputs": [
    {
     "ename": "RuntimeError",
     "evalue": "Failed to connect to Server Manager",
     "output_type": "error",
     "traceback": [
      "\u001b[1;31m---------------------------------------------------------------------------\u001b[0m",
      "\u001b[1;31mRuntimeError\u001b[0m                              Traceback (most recent call last)",
      "\u001b[1;32mc:\\Users\\marci\\Desktop\\jupyter-machine lerning\\Untitled.ipynb Cell 2\u001b[0m line \u001b[0;36m1\n\u001b[0;32m     <a href='vscode-notebook-cell:/c%3A/Users/marci/Desktop/jupyter-machine%20lerning/Untitled.ipynb#W1sZmlsZQ%3D%3D?line=9'>10</a>\u001b[0m gui_enabled \u001b[39m=\u001b[39m \u001b[39mFalse\u001b[39;00m  \u001b[39m# Set to False to disable GUI\u001b[39;00m\n\u001b[0;32m     <a href='vscode-notebook-cell:/c%3A/Users/marci/Desktop/jupyter-machine%20lerning/Untitled.ipynb#W1sZmlsZQ%3D%3D?line=11'>12</a>\u001b[0m \u001b[39m# Initialize the simulated environment\u001b[39;00m\n\u001b[1;32m---> <a href='vscode-notebook-cell:/c%3A/Users/marci/Desktop/jupyter-machine%20lerning/Untitled.ipynb#W1sZmlsZQ%3D%3D?line=12'>13</a>\u001b[0m env \u001b[39m=\u001b[39m gym\u001b[39m.\u001b[39;49mmake(env_name, ip\u001b[39m=\u001b[39;49mserver_manager_address, gui\u001b[39m=\u001b[39;49mgui_enabled)\n\u001b[0;32m     <a href='vscode-notebook-cell:/c%3A/Users/marci/Desktop/jupyter-machine%20lerning/Untitled.ipynb#W1sZmlsZQ%3D%3D?line=13'>14</a>\u001b[0m env \u001b[39m=\u001b[39m ExceptionHandling(env)\n\u001b[0;32m     <a href='vscode-notebook-cell:/c%3A/Users/marci/Desktop/jupyter-machine%20lerning/Untitled.ipynb#W1sZmlsZQ%3D%3D?line=15'>16</a>\u001b[0m \u001b[39mtry\u001b[39;00m:\n\u001b[0;32m     <a href='vscode-notebook-cell:/c%3A/Users/marci/Desktop/jupyter-machine%20lerning/Untitled.ipynb#W1sZmlsZQ%3D%3D?line=16'>17</a>\u001b[0m     \u001b[39m# Attempt to reset the environment to see if the connection is successful\u001b[39;00m\n",
      "File \u001b[1;32mc:\\Users\\marci\\AppData\\Local\\Programs\\Python\\Python311\\Lib\\site-packages\\gym\\envs\\registration.py:640\u001b[0m, in \u001b[0;36mmake\u001b[1;34m(id, max_episode_steps, autoreset, apply_api_compatibility, disable_env_checker, **kwargs)\u001b[0m\n\u001b[0;32m    637\u001b[0m     render_mode \u001b[39m=\u001b[39m \u001b[39mNone\u001b[39;00m\n\u001b[0;32m    639\u001b[0m \u001b[39mtry\u001b[39;00m:\n\u001b[1;32m--> 640\u001b[0m     env \u001b[39m=\u001b[39m env_creator(\u001b[39m*\u001b[39;49m\u001b[39m*\u001b[39;49m_kwargs)\n\u001b[0;32m    641\u001b[0m \u001b[39mexcept\u001b[39;00m \u001b[39mTypeError\u001b[39;00m \u001b[39mas\u001b[39;00m e:\n\u001b[0;32m    642\u001b[0m     \u001b[39mif\u001b[39;00m (\n\u001b[0;32m    643\u001b[0m         \u001b[39mstr\u001b[39m(e)\u001b[39m.\u001b[39mfind(\u001b[39m\"\u001b[39m\u001b[39mgot an unexpected keyword argument \u001b[39m\u001b[39m'\u001b[39m\u001b[39mrender_mode\u001b[39m\u001b[39m'\u001b[39m\u001b[39m\"\u001b[39m) \u001b[39m>\u001b[39m\u001b[39m=\u001b[39m \u001b[39m0\u001b[39m\n\u001b[0;32m    644\u001b[0m         \u001b[39mand\u001b[39;00m apply_human_rendering\n\u001b[0;32m    645\u001b[0m     ):\n",
      "File \u001b[1;32mc:\\Users\\marci\\AppData\\Local\\Programs\\Python\\Python311\\Lib\\site-packages\\robo_gym\\envs\\ur\\ur_base_env.py:383\u001b[0m, in \u001b[0;36mEmptyEnvironmentURSim.__init__\u001b[1;34m(self, ip, lower_bound_port, upper_bound_port, gui, ur_model, **kwargs)\u001b[0m\n\u001b[0;32m    381\u001b[0m \u001b[39mdef\u001b[39;00m \u001b[39m__init__\u001b[39m(\u001b[39mself\u001b[39m, ip\u001b[39m=\u001b[39m\u001b[39mNone\u001b[39;00m, lower_bound_port\u001b[39m=\u001b[39m\u001b[39mNone\u001b[39;00m, upper_bound_port\u001b[39m=\u001b[39m\u001b[39mNone\u001b[39;00m, gui\u001b[39m=\u001b[39m\u001b[39mFalse\u001b[39;00m, ur_model\u001b[39m=\u001b[39m\u001b[39m'\u001b[39m\u001b[39mur5\u001b[39m\u001b[39m'\u001b[39m, \u001b[39m*\u001b[39m\u001b[39m*\u001b[39mkwargs):\n\u001b[0;32m    382\u001b[0m     \u001b[39mself\u001b[39m\u001b[39m.\u001b[39mcmd \u001b[39m=\u001b[39m \u001b[39mself\u001b[39m\u001b[39m.\u001b[39mcmd \u001b[39m+\u001b[39m \u001b[39m'\u001b[39m\u001b[39m \u001b[39m\u001b[39m'\u001b[39m \u001b[39m+\u001b[39m \u001b[39m'\u001b[39m\u001b[39mur_model:=\u001b[39m\u001b[39m'\u001b[39m \u001b[39m+\u001b[39m ur_model\n\u001b[1;32m--> 383\u001b[0m     Simulation\u001b[39m.\u001b[39;49m\u001b[39m__init__\u001b[39;49m(\u001b[39mself\u001b[39;49m, \u001b[39mself\u001b[39;49m\u001b[39m.\u001b[39;49mcmd, ip, lower_bound_port, upper_bound_port, gui, \u001b[39m*\u001b[39;49m\u001b[39m*\u001b[39;49mkwargs)\n\u001b[0;32m    384\u001b[0m     URBaseEnv\u001b[39m.\u001b[39m\u001b[39m__init__\u001b[39m(\u001b[39mself\u001b[39m, rs_address\u001b[39m=\u001b[39m\u001b[39mself\u001b[39m\u001b[39m.\u001b[39mrobot_server_ip, ur_model\u001b[39m=\u001b[39mur_model, \u001b[39m*\u001b[39m\u001b[39m*\u001b[39mkwargs)\n",
      "File \u001b[1;32mc:\\Users\\marci\\AppData\\Local\\Programs\\Python\\Python311\\Lib\\site-packages\\robo_gym\\envs\\simulation_wrapper.py:25\u001b[0m, in \u001b[0;36mSimulation.__init__\u001b[1;34m(self, cmd, ip, lower_bound_port, upper_bound_port, gui, **kwargs)\u001b[0m\n\u001b[0;32m     22\u001b[0m     \u001b[39mself\u001b[39m\u001b[39m.\u001b[39msm_client \u001b[39m=\u001b[39m sm_client\u001b[39m.\u001b[39mClient(ip,lower_bound_port,upper_bound_port)\n\u001b[0;32m     24\u001b[0m \u001b[39melse\u001b[39;00m:\n\u001b[1;32m---> 25\u001b[0m     \u001b[39mself\u001b[39m\u001b[39m.\u001b[39msm_client \u001b[39m=\u001b[39m sm_client\u001b[39m.\u001b[39;49mClient(ip)\n\u001b[0;32m     26\u001b[0m \u001b[39mself\u001b[39m\u001b[39m.\u001b[39m_start_sim()\n",
      "File \u001b[1;32mc:\\Users\\marci\\AppData\\Local\\Programs\\Python\\Python311\\Lib\\site-packages\\robo_gym_server_modules\\server_manager\\client.py:12\u001b[0m, in \u001b[0;36mClient.__init__\u001b[1;34m(self, ip, lower_bound_port, upper_bound_port)\u001b[0m\n\u001b[0;32m     10\u001b[0m \u001b[39mdef\u001b[39;00m \u001b[39m__init__\u001b[39m(\u001b[39mself\u001b[39m, ip, lower_bound_port \u001b[39m=\u001b[39m \u001b[39m50100\u001b[39m, upper_bound_port\u001b[39m=\u001b[39m \u001b[39m50200\u001b[39m):\n\u001b[1;32m---> 12\u001b[0m     \u001b[39massert\u001b[39;00m \u001b[39mself\u001b[39;49m\u001b[39m.\u001b[39;49m_connect_to_rl_srv_mng(ip,lower_bound_port,upper_bound_port)\n",
      "File \u001b[1;32mc:\\Users\\marci\\AppData\\Local\\Programs\\Python\\Python311\\Lib\\site-packages\\robo_gym_server_modules\\server_manager\\client.py:83\u001b[0m, in \u001b[0;36mClient._connect_to_rl_srv_mng\u001b[1;34m(self, ip, lower_bound_port, upper_bound_port)\u001b[0m\n\u001b[0;32m     81\u001b[0m     \u001b[39mexcept\u001b[39;00m RpcError \u001b[39mas\u001b[39;00m rpc_error:\n\u001b[0;32m     82\u001b[0m         \u001b[39mpass\u001b[39;00m\n\u001b[1;32m---> 83\u001b[0m \u001b[39mraise\u001b[39;00m \u001b[39mRuntimeError\u001b[39;00m(\u001b[39m'\u001b[39m\u001b[39mFailed to connect to Server Manager\u001b[39m\u001b[39m'\u001b[39m)\n",
      "\u001b[1;31mRuntimeError\u001b[0m: Failed to connect to Server Manager"
     ]
    }
   ],
   "source": [
    "import gym\n",
    "from robo_gym.wrappers.exception_handling import ExceptionHandling\n",
    "import os\n",
    "\n",
    "os.environ['PROTOCOL_BUFFERS_PYTHON_IMPLEMENTATION'] = 'python'\n",
    "\n",
    "# Replace 'EmptyEnvironmentURSim-v0' with the actual environment name you are using\n",
    "env_name = 'EmptyEnvironmentURSim-v0'\n",
    "server_manager_address = ''  # your IP\n",
    "gui_enabled = False  # Set to False to disable GUI\n",
    "\n",
    "# Initialize the simulated environment\n",
    "env = gym.make(env_name, ip=server_manager_address, gui=gui_enabled)\n",
    "env = ExceptionHandling(env)\n",
    "\n",
    "try:\n",
    "    # Attempt to reset the environment to see if the connection is successful\n",
    "    observation = env.reset()\n",
    "except Exception as e:\n",
    "    print(f\"Error connecting to Server Manager: {e}\")\n",
    "    raise\n",
    "\n",
    "num_episodes = 10\n",
    "\n",
    "for episode in range(num_episodes):\n",
    "    done = False\n",
    "    observation = env.reset()\n",
    "\n",
    "    while not done:\n",
    "        # Replace the following line with your own policy or action selection logic\n",
    "        action = env.action_space.sample()\n",
    "\n",
    "        # Take a step in the environment\n",
    "        observation, reward, done, info = env.step(action)\n",
    "\n",
    "        # Optional: Render the environment (if GUI is enabled)\n",
    "        env.render()\n",
    "\n",
    "    # Print information at the end of each episode\n",
    "    print(f\"Episode {episode + 1} completed with total reward: {info['episode']['r']}\")\n",
    "\n",
    "# Close the environment when done\n",
    "env.close()\n"
   ]
  }
 ],
 "metadata": {
  "kernelspec": {
   "display_name": "Python 3 (ipykernel)",
   "language": "python",
   "name": "python3"
  },
  "language_info": {
   "codemirror_mode": {
    "name": "ipython",
    "version": 3
   },
   "file_extension": ".py",
   "mimetype": "text/x-python",
   "name": "python",
   "nbconvert_exporter": "python",
   "pygments_lexer": "ipython3",
   "version": "3.11.3"
  }
 },
 "nbformat": 4,
 "nbformat_minor": 5
}
